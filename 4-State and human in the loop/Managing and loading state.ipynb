{
 "cells": [
  {
   "cell_type": "code",
   "execution_count": 1,
   "id": "43fa87a8",
   "metadata": {},
   "outputs": [
    {
     "data": {
      "text/plain": [
       "2"
      ]
     },
     "execution_count": 1,
     "metadata": {},
     "output_type": "execute_result"
    }
   ],
   "source": [
    "1+1"
   ]
  },
  {
   "cell_type": "code",
   "execution_count": 2,
   "id": "71dc44af",
   "metadata": {},
   "outputs": [],
   "source": [
    "from autogen_agentchat.agents import AssistantAgent\n",
    "from autogen_ext.models.openai import OpenAIChatCompletionClient\n",
    "from autogen_agentchat.conditions import TextMessageTermination,MaxMessageTermination\n",
    "\n",
    "from dotenv import load_dotenv\n",
    "load_dotenv()\n",
    "import os\n",
    "\n",
    "api_key=os.getenv(\"GAMINI_API_KEY\")\n",
    "model_client = OpenAIChatCompletionClient(\n",
    "    model=\"gemini-1.5-flash-8b\",\n",
    "    api_key=api_key,\n",
    ")"
   ]
  },
  {
   "cell_type": "code",
   "execution_count": 4,
   "id": "c6550f94",
   "metadata": {},
   "outputs": [],
   "source": [
    "from autogen_agentchat.agents import AssistantAgent\n",
    "from autogen_agentchat.conditions import MaxMessageTermination\n",
    "from autogen_agentchat.teams import RoundRobinGroupChat\n",
    "agent_1=AssistantAgent(\n",
    "  name=\"writer_1\",\n",
    "  model_client=model_client,\n",
    "  system_message=\"you are helifull aggestance give the utput in 30 word\"\n",
    " )\n",
    "\n",
    "agent_2=AssistantAgent(\n",
    "    name=\"writer_2\",\n",
    "    model_client=model_client,\n",
    "    system_message=\"you are helifull aggestance give the utput in 30 word\"\n",
    ")\n",
    "\n",
    "terminate=MaxMessageTermination(max_messages=3)\n",
    "\n",
    "team=RoundRobinGroupChat(\n",
    "    participants=[agent_1,agent_2],\n",
    "    termination_condition=terminate\n",
    "\n",
    ")\n"
   ]
  },
  {
   "cell_type": "code",
   "execution_count": 7,
   "id": "61007498",
   "metadata": {},
   "outputs": [
    {
     "name": "stdout",
     "output_type": "stream",
     "text": [
      "---------- TextMessage (user) ----------\n",
      "write a poem about sea in 3 line\n"
     ]
    },
    {
     "name": "stdout",
     "output_type": "stream",
     "text": [
      "---------- TextMessage (writer_1) ----------\n",
      "Vast blue expanse,\n",
      "Waves crash on the sandy shore,\n",
      "Life's breath, wild and free.\n",
      "\n",
      "---------- TextMessage (writer_2) ----------\n",
      "Excellent!  Simple and evocative.\n",
      "\n"
     ]
    },
    {
     "data": {
      "text/plain": [
       "TaskResult(messages=[TextMessage(source='user', models_usage=None, metadata={}, created_at=datetime.datetime(2025, 6, 23, 8, 18, 1, 75930, tzinfo=datetime.timezone.utc), content='write a poem about sea in 3 line', type='TextMessage'), TextMessage(source='writer_1', models_usage=RequestUsage(prompt_tokens=76, completion_tokens=23), metadata={}, created_at=datetime.datetime(2025, 6, 23, 8, 18, 1, 829246, tzinfo=datetime.timezone.utc), content=\"Vast blue expanse,\\nWaves crash on the sandy shore,\\nLife's breath, wild and free.\\n\", type='TextMessage'), TextMessage(source='writer_2', models_usage=RequestUsage(prompt_tokens=99, completion_tokens=8), metadata={}, created_at=datetime.datetime(2025, 6, 23, 8, 18, 3, 81040, tzinfo=datetime.timezone.utc), content='Excellent!  Simple and evocative.\\n', type='TextMessage')], stop_reason='Maximum number of messages 3 reached, current message count: 3')"
      ]
     },
     "execution_count": 7,
     "metadata": {},
     "output_type": "execute_result"
    }
   ],
   "source": [
    "from autogen_agentchat.ui import Console\n",
    "stream = team.run_stream(task=\"write a poem about sea in 3 line\")\n",
    "await Console(stream)"
   ]
  },
  {
   "cell_type": "code",
   "execution_count": 8,
   "id": "d8de10a6",
   "metadata": {},
   "outputs": [],
   "source": [
    "team_state=await team.save_state(\n",
    "\n",
    "    \n",
    ")"
   ]
  },
  {
   "cell_type": "code",
   "execution_count": 9,
   "id": "b3e5824b",
   "metadata": {},
   "outputs": [],
   "source": [
    "await team.reset()"
   ]
  },
  {
   "cell_type": "code",
   "execution_count": 10,
   "id": "8934512f",
   "metadata": {},
   "outputs": [
    {
     "name": "stdout",
     "output_type": "stream",
     "text": [
      "---------- TextMessage (user) ----------\n",
      "what was the last line of the poem\n",
      "---------- TextMessage (writer_1) ----------\n",
      "Please provide the poem.\n",
      "\n",
      "---------- TextMessage (writer_2) ----------\n",
      "Please provide the poem.  I need the text of the poem to tell you the last line.\n",
      "\n"
     ]
    },
    {
     "data": {
      "text/plain": [
       "TaskResult(messages=[TextMessage(source='user', models_usage=None, metadata={}, created_at=datetime.datetime(2025, 6, 23, 8, 19, 50, 789411, tzinfo=datetime.timezone.utc), content='what was the last line of the poem', type='TextMessage'), TextMessage(source='writer_1', models_usage=RequestUsage(prompt_tokens=24, completion_tokens=6), metadata={}, created_at=datetime.datetime(2025, 6, 23, 8, 19, 51, 529395, tzinfo=datetime.timezone.utc), content='Please provide the poem.\\n', type='TextMessage'), TextMessage(source='writer_2', models_usage=RequestUsage(prompt_tokens=30, completion_tokens=21), metadata={}, created_at=datetime.datetime(2025, 6, 23, 8, 19, 52, 759392, tzinfo=datetime.timezone.utc), content='Please provide the poem.  I need the text of the poem to tell you the last line.\\n', type='TextMessage')], stop_reason='Maximum number of messages 3 reached, current message count: 3')"
      ]
     },
     "execution_count": 10,
     "metadata": {},
     "output_type": "execute_result"
    }
   ],
   "source": [
    "from autogen_agentchat.ui import Console\n",
    "stream = team.run_stream(task=\"what was the last line of the poem\")\n",
    "await Console(stream)"
   ]
  },
  {
   "cell_type": "code",
   "execution_count": 11,
   "id": "7f88f898",
   "metadata": {},
   "outputs": [],
   "source": [
    "await team.load_state(team_state)"
   ]
  },
  {
   "cell_type": "code",
   "execution_count": 12,
   "id": "4c6583e2",
   "metadata": {},
   "outputs": [
    {
     "name": "stdout",
     "output_type": "stream",
     "text": [
      "---------- TextMessage (user) ----------\n",
      "what was the last line of the poem\n",
      "---------- TextMessage (writer_1) ----------\n",
      "Life's breath, wild and free.\n",
      "\n",
      "---------- TextMessage (writer_2) ----------\n",
      "Yes, \"Life's breath, wild and free.\"\n",
      "\n"
     ]
    },
    {
     "data": {
      "text/plain": [
       "TaskResult(messages=[TextMessage(source='user', models_usage=None, metadata={}, created_at=datetime.datetime(2025, 6, 23, 8, 24, 2, 254594, tzinfo=datetime.timezone.utc), content='what was the last line of the poem', type='TextMessage'), TextMessage(source='writer_1', models_usage=RequestUsage(prompt_tokens=115, completion_tokens=10), metadata={}, created_at=datetime.datetime(2025, 6, 23, 8, 24, 2, 888161, tzinfo=datetime.timezone.utc), content=\"Life's breath, wild and free.\\n\", type='TextMessage'), TextMessage(source='writer_2', models_usage=RequestUsage(prompt_tokens=125, completion_tokens=13), metadata={}, created_at=datetime.datetime(2025, 6, 23, 8, 24, 4, 275406, tzinfo=datetime.timezone.utc), content='Yes, \"Life\\'s breath, wild and free.\"\\n', type='TextMessage')], stop_reason='Maximum number of messages 3 reached, current message count: 3')"
      ]
     },
     "execution_count": 12,
     "metadata": {},
     "output_type": "execute_result"
    }
   ],
   "source": [
    "from autogen_agentchat.ui import Console\n",
    "stream = team.run_stream(task=\"what was the last line of the poem\")\n",
    "await Console(stream)"
   ]
  },
  {
   "cell_type": "code",
   "execution_count": null,
   "id": "6db7ac02",
   "metadata": {},
   "outputs": [],
   "source": [
    "import json\n",
    "\n",
    "await team."
   ]
  }
 ],
 "metadata": {
  "kernelspec": {
   "display_name": "Auto",
   "language": "python",
   "name": "python3"
  },
  "language_info": {
   "codemirror_mode": {
    "name": "ipython",
    "version": 3
   },
   "file_extension": ".py",
   "mimetype": "text/x-python",
   "name": "python",
   "nbconvert_exporter": "python",
   "pygments_lexer": "ipython3",
   "version": "3.12.11"
  }
 },
 "nbformat": 4,
 "nbformat_minor": 5
}
