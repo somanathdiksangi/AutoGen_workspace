{
 "cells": [
  {
   "cell_type": "code",
   "execution_count": 1,
   "id": "b111332a",
   "metadata": {},
   "outputs": [
    {
     "data": {
      "text/plain": [
       "2"
      ]
     },
     "execution_count": 1,
     "metadata": {},
     "output_type": "execute_result"
    }
   ],
   "source": [
    "1+1"
   ]
  },
  {
   "cell_type": "code",
   "execution_count": 14,
   "id": "cfff22f7",
   "metadata": {},
   "outputs": [],
   "source": [
    "from autogen_agentchat.agents import AssistantAgent\n",
    "from autogen_ext.models.openai import OpenAIChatCompletionClient\n",
    "from autogen_agentchat.conditions import TextMessageTermination,MaxMessageTermination\n",
    "\n",
    "from dotenv import load_dotenv\n",
    "load_dotenv()\n",
    "import os\n",
    "\n",
    "api_key=os.getenv(\"GAMINI_API_KEY\")"
   ]
  },
  {
   "cell_type": "code",
   "execution_count": 3,
   "id": "560ddf34",
   "metadata": {},
   "outputs": [],
   "source": [
    "model_client = OpenAIChatCompletionClient(\n",
    "    model=\"gemini-1.5-flash-8b\",\n",
    "    api_key=api_key,\n",
    ")"
   ]
  },
  {
   "cell_type": "code",
   "execution_count": 9,
   "id": "912aa319",
   "metadata": {},
   "outputs": [],
   "source": [
    "dsa_solver=AssistantAgent(\n",
    "    name=\"dsa_solver\",\n",
    "    model_client=model_client,\n",
    "    system_message=\"you give me code in c++ to solve complex dsa problem\"\n",
    ")\n",
    "\n",
    "code_reviewer=AssistantAgent(\n",
    "    name=\"recviewer\",\n",
    "    model_client=model_client,\n",
    "    system_message=\"you review the code by the dsa_solver \"\\\n",
    "    \"is code is crrect please say 'Terminate'\"\n",
    ")\n",
    "code_editer=AssistantAgent(\n",
    "    name=\"code_editer\",\n",
    "    model_client=model_client,\n",
    "    system_message=\"you make the code easy to understand and add comment of the code \"\\\n",
    "    \"is code is crrect please say 'Terminate'\"\n",
    "\n",
    ") "
   ]
  },
  {
   "cell_type": "code",
   "execution_count": 15,
   "id": "f0a11333",
   "metadata": {},
   "outputs": [],
   "source": [
    "terminate=TextMessageTermination(\"Terminate\") | MaxMessageTermination(5)\n",
    "from autogen_agentchat.teams import RoundRobinGroupChat\n",
    "team=RoundRobinGroupChat(\n",
    "    participants=[dsa_solver,code_reviewer,code_editer],\n",
    "    # max_turns=3/\n",
    "    termination_condition=terminate\n",
    ")"
   ]
  },
  {
   "cell_type": "code",
   "execution_count": 11,
   "id": "abbf93ea",
   "metadata": {},
   "outputs": [],
   "source": [
    "from autogen_agentchat.messages import TextMessage\n",
    "\n",
    "async def test_team():\n",
    "    task=TextMessage(content=\"write code to of find prime number in c++\",source='user')\n",
    "    result= await team.run(task=task)\n",
    "\n",
    "    for each_messages in result.messages:\n",
    "        print(f'{each_messages.source}:{each_messages.content}')"
   ]
  },
  {
   "cell_type": "code",
   "execution_count": null,
   "id": "2659b28e",
   "metadata": {},
   "outputs": [],
   "source": []
  },
  {
   "cell_type": "code",
   "execution_count": 16,
   "id": "ed3d4324",
   "metadata": {},
   "outputs": [
    {
     "name": "stdout",
     "output_type": "stream",
     "text": [
      "---------- TextMessage (user) ----------\n",
      "how to find even or odd code\n"
     ]
    },
    {
     "name": "stdout",
     "output_type": "stream",
     "text": [
      "---------- TextMessage (dsa_solver) ----------\n",
      "There are several ways to determine if a number is even or odd in C++.  Here are a few, with explanations:\n",
      "\n",
      "**1. Using the modulo operator (%)**\n",
      "\n",
      "```C++\n",
      "#include <iostream>\n",
      "\n",
      "using namespace std;\n",
      "\n",
      "int main() {\n",
      "  int number;\n",
      "\n",
      "  cout << \"Enter an integer: \";\n",
      "  cin >> number;\n",
      "\n",
      "  if (number % 2 == 0) {\n",
      "    cout << number << \" is even.\" << endl;\n",
      "  } else {\n",
      "    cout << number << \" is odd.\" << endl;\n",
      "  }\n",
      "\n",
      "  return 0;\n",
      "}\n",
      "```\n",
      "\n",
      "* **Explanation:** The modulo operator (%) gives you the remainder of a division.  If a number is perfectly divisible by 2 (remainder is 0), it's even. Otherwise, it's odd.\n",
      "\n",
      "\n",
      "**2. Using a bitwise AND operator (&)**\n",
      "\n",
      "```C++\n",
      "#include <iostream>\n",
      "\n",
      "using namespace std;\n",
      "\n",
      "int main() {\n",
      "  int number;\n",
      "\n",
      "  cout << \"Enter an integer: \";\n",
      "  cin >> number;\n",
      "\n",
      "  if ((number & 1) == 0) {\n",
      "    cout << number << \" is even.\" << endl;\n",
      "  } else {\n",
      "    cout << number << \" is odd.\" << endl;\n",
      "  }\n",
      "\n",
      "  return 0;\n",
      "}\n",
      "```\n",
      "\n",
      "* **Explanation:**  This method is generally *slightly* faster than the modulo operator on some architectures.  It checks if the least significant bit is 0 (even) or 1 (odd).\n",
      "\n",
      "\n",
      "**3.  Using a ternary operator (more concise but less readable for beginners):**\n",
      "\n",
      "```C++\n",
      "#include <iostream>\n",
      "\n",
      "using namespace std;\n",
      "\n",
      "int main() {\n",
      "  int number;\n",
      "\n",
      "  cout << \"Enter an integer: \";\n",
      "  cin >> number;\n",
      "\n",
      "  cout << number << \" is \" << (number % 2 == 0 ? \"even\" : \"odd\") << \".\" << endl;\n",
      "\n",
      "  return 0;\n",
      "}\n",
      "```\n",
      "\n",
      "* **Explanation:** This combines the conditional statement into a single line using a ternary operator.  It's more compact but less readable for those less familiar with this operator.\n",
      "\n",
      "\n",
      "**Which method should you use?**\n",
      "\n",
      "For most cases, the modulo operator (%) is perfectly acceptable and easier to understand for beginners.  The bitwise AND (&) method might be slightly faster in specific circumstances but often isn't a significant performance difference.  Use the method that is clearest and most understandable within the context of your program.\n",
      "\n",
      "\n",
      "**Important Considerations**\n",
      "\n",
      "* **Error Handling:** The provided examples don't handle potential errors like the user entering non-integer input.  In real-world applications, you'd want to include input validation to prevent unexpected program crashes.\n",
      "* **Data Types:**  These examples work for `int` types.  If you need to handle larger numbers (e.g., `long long`), adapt the code accordingly.\n",
      "\n",
      "\n",
      "Choose the method that best suits your needs and coding style.  For simple even/odd checks, the modulo method is perfectly fine. Remember to add error handling in production code. Remember to include error handling in production code.\n",
      "\n",
      "\n",
      "```C++\n",
      "#include <iostream>\n",
      "#include <limits> // Required for numeric_limits\n",
      "\n",
      "using namespace std;\n",
      "\n",
      "int main() {\n",
      "    long long number;\n",
      "\n",
      "    cout << \"Enter an integer: \";\n",
      "\n",
      "    // Robust input validation to avoid crashes\n",
      "    if (!(cin >> number)) {\n",
      "        cout << \"Invalid input. Please enter an integer.\" << endl;\n",
      "        cin.clear(); // Clear error flags\n",
      "        cin.ignore(numeric_limits<streamsize>::max(), '\\n'); // Discard bad input\n",
      "        return 1; // Indicate an error\n",
      "    }\n",
      "\n",
      "    if (number % 2 == 0) {\n",
      "        cout << number << \" is even.\" << endl;\n",
      "    } else {\n",
      "        cout << number << \" is odd.\" << endl;\n",
      "    }\n",
      "\n",
      "    return 0;\n",
      "}\n",
      "```\n",
      "\n",
      "This improved version now includes input validation to prevent crashes if the user enters something that can't be interpreted as a number.  It's crucial for writing production-quality code. Remember to include `<limits>` to use `numeric_limits`.\n",
      "\n",
      "\n",
      "This complete example is a better approach as it handles potential errors.\n",
      "---------- TextMessage (recviewer) ----------\n",
      "Terminate\n",
      "\n",
      "---------- TextMessage (code_editer) ----------\n",
      "OK.\n",
      "\n",
      "---------- TextMessage (dsa_solver) ----------\n",
      "OK.  What would you like me to do next?\n",
      "\n"
     ]
    },
    {
     "data": {
      "text/plain": [
       "TaskResult(messages=[TextMessage(source='user', models_usage=None, metadata={}, created_at=datetime.datetime(2025, 6, 23, 7, 38, 40, 461054, tzinfo=datetime.timezone.utc), content='how to find even or odd code', type='TextMessage'), TextMessage(source='dsa_solver', models_usage=RequestUsage(prompt_tokens=20, completion_tokens=921), metadata={}, created_at=datetime.datetime(2025, 6, 23, 7, 38, 45, 936277, tzinfo=datetime.timezone.utc), content='There are several ways to determine if a number is even or odd in C++.  Here are a few, with explanations:\\n\\n**1. Using the modulo operator (%)**\\n\\n```C++\\n#include <iostream>\\n\\nusing namespace std;\\n\\nint main() {\\n  int number;\\n\\n  cout << \"Enter an integer: \";\\n  cin >> number;\\n\\n  if (number % 2 == 0) {\\n    cout << number << \" is even.\" << endl;\\n  } else {\\n    cout << number << \" is odd.\" << endl;\\n  }\\n\\n  return 0;\\n}\\n```\\n\\n* **Explanation:** The modulo operator (%) gives you the remainder of a division.  If a number is perfectly divisible by 2 (remainder is 0), it\\'s even. Otherwise, it\\'s odd.\\n\\n\\n**2. Using a bitwise AND operator (&)**\\n\\n```C++\\n#include <iostream>\\n\\nusing namespace std;\\n\\nint main() {\\n  int number;\\n\\n  cout << \"Enter an integer: \";\\n  cin >> number;\\n\\n  if ((number & 1) == 0) {\\n    cout << number << \" is even.\" << endl;\\n  } else {\\n    cout << number << \" is odd.\" << endl;\\n  }\\n\\n  return 0;\\n}\\n```\\n\\n* **Explanation:**  This method is generally *slightly* faster than the modulo operator on some architectures.  It checks if the least significant bit is 0 (even) or 1 (odd).\\n\\n\\n**3.  Using a ternary operator (more concise but less readable for beginners):**\\n\\n```C++\\n#include <iostream>\\n\\nusing namespace std;\\n\\nint main() {\\n  int number;\\n\\n  cout << \"Enter an integer: \";\\n  cin >> number;\\n\\n  cout << number << \" is \" << (number % 2 == 0 ? \"even\" : \"odd\") << \".\" << endl;\\n\\n  return 0;\\n}\\n```\\n\\n* **Explanation:** This combines the conditional statement into a single line using a ternary operator.  It\\'s more compact but less readable for those less familiar with this operator.\\n\\n\\n**Which method should you use?**\\n\\nFor most cases, the modulo operator (%) is perfectly acceptable and easier to understand for beginners.  The bitwise AND (&) method might be slightly faster in specific circumstances but often isn\\'t a significant performance difference.  Use the method that is clearest and most understandable within the context of your program.\\n\\n\\n**Important Considerations**\\n\\n* **Error Handling:** The provided examples don\\'t handle potential errors like the user entering non-integer input.  In real-world applications, you\\'d want to include input validation to prevent unexpected program crashes.\\n* **Data Types:**  These examples work for `int` types.  If you need to handle larger numbers (e.g., `long long`), adapt the code accordingly.\\n\\n\\nChoose the method that best suits your needs and coding style.  For simple even/odd checks, the modulo method is perfectly fine. Remember to add error handling in production code. Remember to include error handling in production code.\\n\\n\\n```C++\\n#include <iostream>\\n#include <limits> // Required for numeric_limits\\n\\nusing namespace std;\\n\\nint main() {\\n    long long number;\\n\\n    cout << \"Enter an integer: \";\\n\\n    // Robust input validation to avoid crashes\\n    if (!(cin >> number)) {\\n        cout << \"Invalid input. Please enter an integer.\" << endl;\\n        cin.clear(); // Clear error flags\\n        cin.ignore(numeric_limits<streamsize>::max(), \\'\\\\n\\'); // Discard bad input\\n        return 1; // Indicate an error\\n    }\\n\\n    if (number % 2 == 0) {\\n        cout << number << \" is even.\" << endl;\\n    } else {\\n        cout << number << \" is odd.\" << endl;\\n    }\\n\\n    return 0;\\n}\\n```\\n\\nThis improved version now includes input validation to prevent crashes if the user enters something that can\\'t be interpreted as a number.  It\\'s crucial for writing production-quality code. Remember to include `<limits>` to use `numeric_limits`.\\n\\n\\nThis complete example is a better approach as it handles potential errors.', type='TextMessage'), TextMessage(source='recviewer', models_usage=RequestUsage(prompt_tokens=948, completion_tokens=2), metadata={}, created_at=datetime.datetime(2025, 6, 23, 7, 38, 46, 738969, tzinfo=datetime.timezone.utc), content='Terminate\\n', type='TextMessage'), TextMessage(source='code_editer', models_usage=RequestUsage(prompt_tokens=953, completion_tokens=3), metadata={}, created_at=datetime.datetime(2025, 6, 23, 7, 38, 48, 111080, tzinfo=datetime.timezone.utc), content='OK.\\n', type='TextMessage'), TextMessage(source='dsa_solver', models_usage=RequestUsage(prompt_tokens=946, completion_tokens=13), metadata={}, created_at=datetime.datetime(2025, 6, 23, 7, 38, 48, 796755, tzinfo=datetime.timezone.utc), content='OK.  What would you like me to do next?\\n', type='TextMessage')], stop_reason='Maximum number of messages 5 reached, current message count: 5')"
      ]
     },
     "execution_count": 16,
     "metadata": {},
     "output_type": "execute_result"
    }
   ],
   "source": [
    "from autogen_agentchat.ui import Console\n",
    "await team.reset()\n",
    "await Console(team.run_stream(task=\"how to find even or odd code\"))"
   ]
  },
  {
   "cell_type": "code",
   "execution_count": null,
   "id": "f7df3c4c",
   "metadata": {},
   "outputs": [],
   "source": []
  }
 ],
 "metadata": {
  "kernelspec": {
   "display_name": "Auto",
   "language": "python",
   "name": "python3"
  },
  "language_info": {
   "codemirror_mode": {
    "name": "ipython",
    "version": 3
   },
   "file_extension": ".py",
   "mimetype": "text/x-python",
   "name": "python",
   "nbconvert_exporter": "python",
   "pygments_lexer": "ipython3",
   "version": "3.12.11"
  }
 },
 "nbformat": 4,
 "nbformat_minor": 5
}
