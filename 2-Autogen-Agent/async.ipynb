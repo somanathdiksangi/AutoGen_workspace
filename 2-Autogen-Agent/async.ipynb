{
 "cells": [
  {
   "cell_type": "code",
   "execution_count": 1,
   "id": "640cd812",
   "metadata": {},
   "outputs": [
    {
     "data": {
      "text/plain": [
       "2"
      ]
     },
     "execution_count": 1,
     "metadata": {},
     "output_type": "execute_result"
    }
   ],
   "source": [
    "1+1"
   ]
  },
  {
   "cell_type": "code",
   "execution_count": 1,
   "id": "6a2c8b11",
   "metadata": {},
   "outputs": [
    {
     "name": "stdout",
     "output_type": "stream",
     "text": [
      "Starting breakfast preparation...\n",
      "Brewing coffee...\n",
      "Coffee is ready!\n",
      "Toasting bread...\n",
      "Bread is toasted!\n",
      "Breakfast is ready!\n"
     ]
    }
   ],
   "source": [
    "import time\n",
    "def brew_coffee():\n",
    "    print(\"Brewing coffee...\")\n",
    "    time.sleep(6)  \n",
    "    print(\"Coffee is ready!\")\n",
    "def toast_bread():\n",
    "    print(\"Toasting bread...\")\n",
    "    time.sleep(3)  \n",
    "    print(\"Bread is toasted!\")\n",
    "\n",
    "def main():\n",
    "    print(\"Starting breakfast preparation...\")\n",
    "    brew_coffee()\n",
    "    toast_bread()\n",
    "    print(\"Breakfast is ready!\")\n",
    "\n",
    "main()"
   ]
  },
  {
   "cell_type": "code",
   "execution_count": 3,
   "id": "a2042a61",
   "metadata": {},
   "outputs": [
    {
     "name": "stdout",
     "output_type": "stream",
     "text": [
      "Starting asynchronous breakfast preparation...\n",
      "Brewing coffee asynchronously...\n",
      "Toasting bread asynchronously...\n",
      "Bread is toasted!\n",
      "Coffee is ready!\n",
      "Breakfast is ready!\n"
     ]
    }
   ],
   "source": [
    "import asyncio\n",
    "async def async_brew_coffee():\n",
    "    print(\"Brewing coffee asynchronously...\")\n",
    "    await asyncio.sleep(6)  \n",
    "    print(\"Coffee is ready!\")\n",
    "\n",
    "async def async_toast_bread():\n",
    "    print(\"Toasting bread asynchronously...\")\n",
    "    await asyncio.sleep(3)  \n",
    "    print(\"Bread is toasted!\")\n",
    "\n",
    "async def main_async():\n",
    "    print(\"Starting asynchronous breakfast preparation...\")\n",
    "    await asyncio.gather(\n",
    "        async_brew_coffee(),\n",
    "        async_toast_bread()\n",
    "    )\n",
    "    print(\"Breakfast is ready!\")\n",
    "\n",
    "await main_async()\n",
    "import threading"
   ]
  },
  {
   "cell_type": "code",
   "execution_count": null,
   "id": "bd7b4c9a",
   "metadata": {},
   "outputs": [],
   "source": []
  }
 ],
 "metadata": {
  "kernelspec": {
   "display_name": "Auto",
   "language": "python",
   "name": "python3"
  },
  "language_info": {
   "codemirror_mode": {
    "name": "ipython",
    "version": 3
   },
   "file_extension": ".py",
   "mimetype": "text/x-python",
   "name": "python",
   "nbconvert_exporter": "python",
   "pygments_lexer": "ipython3",
   "version": "3.12.11"
  }
 },
 "nbformat": 4,
 "nbformat_minor": 5
}
