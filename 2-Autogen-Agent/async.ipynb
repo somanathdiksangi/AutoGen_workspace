{
 "cells": [
  {
   "cell_type": "code",
   "execution_count": 1,
   "id": "640cd812",
   "metadata": {},
   "outputs": [
    {
     "data": {
      "text/plain": [
       "2"
      ]
     },
     "execution_count": 1,
     "metadata": {},
     "output_type": "execute_result"
    }
   ],
   "source": [
    "1+1"
   ]
  },
  {
   "cell_type": "code",
   "execution_count": null,
   "id": "6a2c8b11",
   "metadata": {},
   "outputs": [
    {
     "name": "stdout",
     "output_type": "stream",
     "text": [
      "Starting breakfast preparation...\n",
      "Brewing coffee...\n",
      "Coffee is ready!\n",
      "Toasting bread...\n",
      "Bread is toasted!\n",
      "Breakfast is ready!\n"
     ]
    }
   ],
   "source": [
    "import time\n",
    "def brew_coffee():\n",
    "    print(\"Brewing coffee...\")\n",
    "    time.sleep(6)  \n",
    "    print(\"Coffee is ready!\")\n",
    "def toast_bread():\n",
    "    print(\"Toasting bread...\")\n",
    "    time.sleep(3)  \n",
    "    print(\"Bread is toasted!\")\n",
    "\n",
    "def main():\n",
    "    print(\"Starting breakfast preparation...\")\n",
    "    brew_coffee()\n",
    "    toast_bread()\n",
    "    print(\"Breakfast is ready!\")\n",
    "\n",
    "main()"
   ]
  },
  {
   "cell_type": "code",
   "execution_count": null,
   "id": "a2042a61",
   "metadata": {},
   "outputs": [],
   "source": []
  }
 ],
 "metadata": {
  "kernelspec": {
   "display_name": "Auto",
   "language": "python",
   "name": "python3"
  },
  "language_info": {
   "codemirror_mode": {
    "name": "ipython",
    "version": 3
   },
   "file_extension": ".py",
   "mimetype": "text/x-python",
   "name": "python",
   "nbconvert_exporter": "python",
   "pygments_lexer": "ipython3",
   "version": "3.12.11"
  }
 },
 "nbformat": 4,
 "nbformat_minor": 5
}
